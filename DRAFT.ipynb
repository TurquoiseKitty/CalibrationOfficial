{
 "cells": [
  {
   "cell_type": "code",
   "execution_count": 52,
   "id": "e0ba9e9c",
   "metadata": {},
   "outputs": [
    {
     "name": "stdout",
     "output_type": "stream",
     "text": [
      "0.8\n",
      "{'MACE_Loss': 0.11065573245286942, 'AGCE_Loss': 0.14792080223560333, 'CheckScore': 3.5193464756011963}\n",
      "0.7\n",
      "{'MACE_Loss': 0.11274012923240662, 'AGCE_Loss': 0.1497029811143875, 'CheckScore': 3.4977457523345947}\n",
      "0.6\n",
      "{'MACE_Loss': 0.11456424742937088, 'AGCE_Loss': 0.1679207980632782, 'CheckScore': 3.4910762310028076}\n",
      "0.5\n",
      "{'MACE_Loss': 0.10860825330018997, 'AGCE_Loss': 0.15069307386875153, 'CheckScore': 3.442072629928589}\n",
      "0.4\n",
      "{'MACE_Loss': 0.11018094420433044, 'AGCE_Loss': 0.15683168172836304, 'CheckScore': 3.4513792991638184}\n",
      "0.3\n",
      "{'MACE_Loss': 0.11717885732650757, 'AGCE_Loss': 0.1528712958097458, 'CheckScore': 3.460111379623413}\n",
      "0.2\n",
      "{'MACE_Loss': 0.12181782722473145, 'AGCE_Loss': 0.15920792520046234, 'CheckScore': 3.4061572551727295}\n"
     ]
    }
   ],
   "source": [
    "import os\n",
    "import yaml\n",
    "from Experiments.EXP1.trainer import trainer, model_callByName, loss_callByName\n",
    "from data_utils import get_uci_data, common_processor_UCI, seed_all, california_housing_process, normalize, splitter\n",
    "from Experiments.EXP1.TestPerform import testPerform_muSigma, testPerform_kernel\n",
    "import torch\n",
    "import pandas as pd\n",
    "import numpy as np\n",
    "from sklearn.ensemble import RandomForestRegressor\n",
    "\n",
    "\n",
    "base_seed = 1234\n",
    "num_repeat = 5\n",
    "big_df = {}\n",
    "\n",
    "err_mu_dic = {}\n",
    "err_std_dic = {}\n",
    "\n",
    "dataname = \"parkinsons\"\n",
    "\n",
    "\n",
    "df = pd.read_csv(os.getcwd() + \"/Dataset/UCI_datasets/parkinsons.txt\", sep=\",\")\n",
    "df1 = df[df[\"age\"] < 74]\n",
    "df2 = df[df[\"age\"] >= 74]\n",
    "\n",
    "ds1 = df1.iloc[:,5:].to_numpy()\n",
    "ds2 = df2.iloc[:,5:].to_numpy()\n",
    "\n",
    "\n",
    "x, y = ds1[:,1:], ds1[:,0]\n",
    "\n",
    "# test_X, test_Y = ds3[:,1:], ds3[:,0]\n",
    "test_X, test_Y = ds2[:,1:], ds2[:,0]\n",
    "\n",
    "x_normed, x_normalizer = normalize(x)\n",
    "\n",
    "x = x_normed\n",
    "test_X = x_normalizer.transform(test_X)\n",
    "\n",
    "\n",
    "modelname = \"RFKernel\"\n",
    "\n",
    "for ratio in [0.8, 0.7, 0.6, 0.5, 0.4, 0.3, 0.2]:\n",
    "\n",
    "\n",
    "    N_train = int(len(x)*ratio)\n",
    "    N_recal = int(len(x)*(1-ratio))\n",
    "\n",
    "    tr_idx, recal_idx = splitter(N_train, N_recal)\n",
    "    train_X, train_Y = x[tr_idx], y[tr_idx]\n",
    "\n",
    "    recal_X, recal_Y = x[recal_idx], y[recal_idx]\n",
    "\n",
    "    train_X, test_X, recal_X= torch.Tensor(train_X), torch.Tensor(test_X), torch.Tensor(recal_X)\n",
    "    train_Y, test_Y, recal_Y= torch.Tensor(train_Y).to(torch.device(\"cuda\")), torch.Tensor(test_Y).to(torch.device(\"cuda\")), torch.Tensor(recal_Y).to(torch.device(\"cuda\"))\n",
    "\n",
    "    depth = 20\n",
    "\n",
    "    rf_model = RandomForestRegressor(max_depth=depth, random_state=0)\n",
    "    rf_model.fit(train_X.cpu().numpy(), train_Y.cpu().numpy())\n",
    "\n",
    "\n",
    "    record = testPerform_kernel(\n",
    "        test_X,\n",
    "        test_Y,\n",
    "        recal_X,\n",
    "        recal_Y,\n",
    "        model_name = \"RFKernel\",\n",
    "        model = rf_model,\n",
    "        val_criterias = [\n",
    "            \"MACE_Loss\", \"AGCE_Loss\", \"CheckScore\"\n",
    "        ],\n",
    "        wid = 1\n",
    "    )\n",
    "    print(ratio)\n",
    "    print(record)"
   ]
  },
  {
   "cell_type": "code",
   "execution_count": 36,
   "id": "ed7161d8",
   "metadata": {},
   "outputs": [
    {
     "data": {
      "text/plain": [
       "array([34.398, 34.894, 35.389, ..., 32.495, 32.007, 31.513])"
      ]
     },
     "execution_count": 36,
     "metadata": {},
     "output_type": "execute_result"
    }
   ],
   "source": []
  },
  {
   "cell_type": "code",
   "execution_count": null,
   "id": "40276e34",
   "metadata": {},
   "outputs": [],
   "source": []
  }
 ],
 "metadata": {
  "kernelspec": {
   "display_name": "Python 3 (ipykernel)",
   "language": "python",
   "name": "python3"
  },
  "language_info": {
   "codemirror_mode": {
    "name": "ipython",
    "version": 3
   },
   "file_extension": ".py",
   "mimetype": "text/x-python",
   "name": "python",
   "nbconvert_exporter": "python",
   "pygments_lexer": "ipython3",
   "version": "3.9.7"
  }
 },
 "nbformat": 4,
 "nbformat_minor": 5
}
