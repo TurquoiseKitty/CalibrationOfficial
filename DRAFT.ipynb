{
 "cells": [
  {
   "cell_type": "code",
   "execution_count": 12,
   "id": "8e508b08",
   "metadata": {},
   "outputs": [
    {
     "data": {
      "text/plain": [
       "tensor(0.3907)"
      ]
     },
     "execution_count": 12,
     "metadata": {},
     "output_type": "execute_result"
    }
   ],
   "source": [
    "import torch\n",
    "from src.DEFAULTS import normalZ\n",
    "from src.losses import MMD_Loss\n",
    "from src.losses import avg_pinball\n",
    "\n",
    "\n",
    "\n",
    "\n",
    "Y = torch.randn(100)\n",
    "\n",
    "taus = 0.7 * torch.ones(100)\n",
    "preds = normalZ.ppf(0.7) * torch.ones(100)\n",
    "\n",
    "Y_inpu = torch.stack([preds, taus], dim = 1)\n",
    "\n",
    "avg_pinball(Y_inpu, Y)\n",
    "\n"
   ]
  },
  {
   "cell_type": "code",
   "execution_count": 15,
   "id": "d3a32398",
   "metadata": {},
   "outputs": [
    {
     "data": {
      "text/plain": [
       "1.2815515655446004"
      ]
     },
     "execution_count": 15,
     "metadata": {},
     "output_type": "execute_result"
    }
   ],
   "source": [
    "normalZ.ppf(0.9)"
   ]
  },
  {
   "cell_type": "code",
   "execution_count": 4,
   "id": "9b6e2dfa",
   "metadata": {},
   "outputs": [
    {
     "data": {
      "text/plain": [
       "tensor(0.6550)"
      ]
     },
     "execution_count": 4,
     "metadata": {},
     "output_type": "execute_result"
    }
   ],
   "source": [
    "preds = normalZ.ppf(0.2) * torch.ones(100)\n",
    "\n",
    "Y_inpu = torch.stack([preds, taus], dim = 1)\n",
    "\n",
    "avg_pinball(Y_inpu, Y)"
   ]
  },
  {
   "cell_type": "code",
   "execution_count": 6,
   "id": "aab56eb4",
   "metadata": {},
   "outputs": [
    {
     "data": {
      "text/plain": [
       "tensor([0.2000, 0.2000, 0.2000, 0.2000, 0.2000, 0.2000, 0.2000, 0.2000, 0.2000,\n",
       "        0.2000, 0.8000, 0.8000, 0.8000, 0.8000, 0.8000, 0.8000, 0.8000, 0.8000,\n",
       "        0.8000, 0.8000])"
      ]
     },
     "execution_count": 6,
     "metadata": {},
     "output_type": "execute_result"
    }
   ],
   "source": [
    "import numpy as np\n",
    "\n",
    "q_list = np.array([0.2, 0.8])\n",
    "\n",
    "torch.Tensor(q_list).view(-1, 1).repeat(1, 10).view(-1)"
   ]
  },
  {
   "cell_type": "code",
   "execution_count": 7,
   "id": "e2798dde",
   "metadata": {},
   "outputs": [
    {
     "data": {
      "text/plain": [
       "tensor([0.2000, 0.2000, 0.2000, 0.4000, 0.6000, 0.8000])"
      ]
     },
     "execution_count": 7,
     "metadata": {},
     "output_type": "execute_result"
    }
   ],
   "source": [
    "y = torch.Tensor([\n",
    "    [0.2, 0.4],\n",
    "    [0.2, 0.6],\n",
    "    [0.2, 0.8]\n",
    "])\n",
    "\n",
    "torch.permute(y, (1, 0)).reshape(-1,)"
   ]
  },
  {
   "cell_type": "code",
   "execution_count": 9,
   "id": "1477fef5",
   "metadata": {},
   "outputs": [
    {
     "data": {
      "text/plain": [
       "tensor([0.1000, 0.2000, 0.3000])"
      ]
     },
     "execution_count": 9,
     "metadata": {},
     "output_type": "execute_result"
    }
   ],
   "source": [
    "out_ten = torch.Tensor([\n",
    "    [3, 0.1],\n",
    "    [4, 0.1],\n",
    "    [5, 0.2],\n",
    "    [6, 0.2],\n",
    "    [7, 0.3],\n",
    "    [6, 0.3]\n",
    "])\n",
    "num_pts = 2\n",
    "num_q = 3\n",
    "\n",
    "\n",
    "\n",
    "out_ten[:,1].view(num_q, num_pts)[:, 0]\n"
   ]
  },
  {
   "cell_type": "code",
   "execution_count": 11,
   "id": "d4948f44",
   "metadata": {},
   "outputs": [
    {
     "data": {
      "text/plain": [
       "tensor([[3., 1.],\n",
       "        [3., 1.],\n",
       "        [3., 1.]])"
      ]
     },
     "execution_count": 11,
     "metadata": {},
     "output_type": "execute_result"
    }
   ],
   "source": [
    "Y = torch.Tensor([3,1])\n",
    "Y.repeat(num_q).reshape(num_q, num_pts)"
   ]
  },
  {
   "cell_type": "code",
   "execution_count": null,
   "id": "b30db924",
   "metadata": {},
   "outputs": [],
   "source": []
  }
 ],
 "metadata": {
  "kernelspec": {
   "display_name": "Python 3 (ipykernel)",
   "language": "python",
   "name": "python3"
  },
  "language_info": {
   "codemirror_mode": {
    "name": "ipython",
    "version": 3
   },
   "file_extension": ".py",
   "mimetype": "text/x-python",
   "name": "python",
   "nbconvert_exporter": "python",
   "pygments_lexer": "ipython3",
   "version": "3.9.7"
  }
 },
 "nbformat": 4,
 "nbformat_minor": 5
}
