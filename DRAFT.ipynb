{
 "cells": [
  {
   "cell_type": "code",
   "execution_count": 8,
   "id": "c823353b",
   "metadata": {},
   "outputs": [
    {
     "data": {
      "text/plain": [
       "tensor(0.2480)"
      ]
     },
     "execution_count": 8,
     "metadata": {},
     "output_type": "execute_result"
    }
   ],
   "source": [
    "from src.losses import MACE_muSigma\n",
    "import torch\n",
    "import numpy as np\n",
    "\n",
    "real = torch.randn(1000)\n",
    "mu = torch.zeros(1000)\n",
    "sigma = 1*torch.ones(1000)\n",
    "y_in = 0.01*torch.cat([mu.view(-1,1), sigma.view(-1,1)], dim = 1)\n",
    "\n",
    "\n",
    "MACE_muSigma(y_in, real, np.linspace(0,1,100))"
   ]
  },
  {
   "cell_type": "code",
   "execution_count": null,
   "id": "f985c195",
   "metadata": {},
   "outputs": [],
   "source": [
    "harvestor:\n",
    "  early_stopped: false\n",
    "  early_stopping_epoch: 0\n",
    "  monitor_name: MACE\n",
    "  monitor_vals: []\n",
    "  training_losses: []\n",
    "  val_MACE: []\n",
    "  val_nll: []\n",
    "  val_rmse: []\n",
    "misc_info:\n",
    "  input_x_shape:\n",
    "  - 691\n",
    "  - 8\n",
    "  input_y_shape:\n",
    "  - 691\n",
    "  model_config:\n",
    "    device: cuda\n",
    "    drop_rate: 0.0\n",
    "    hidden_layers:\n",
    "    - 10\n",
    "    - 5\n",
    "    n_input: 8\n",
    "    n_output: 2\n",
    "  model_init: HNN\n",
    "  save_path_and_name: null\n",
    "  val_percentage: 0.1\n",
    "training_config:\n",
    "  Decay: 0.0001\n",
    "  LR: 0.01\n",
    "  N_Epoch: 200\n",
    "  backdoor: null\n",
    "  bat_size: 600\n",
    "  early_stopping: true\n",
    "  monitor_name: nll\n",
    "  patience: 20\n",
    "  train_loss: mean_std_norm_loss\n",
    "  val_loss_criterias:\n",
    "    MACE: MACE_muSigma\n",
    "    nll: mean_std_norm_loss\n",
    "    rmse: rmse_loss\n",
    "  validate_times: 20\n",
    "  verbose: false\n"
   ]
  },
  {
   "cell_type": "code",
   "execution_count": null,
   "id": "2b7cd825",
   "metadata": {},
   "outputs": [],
   "source": [
    "training_config[\"LR\"] = LR\n",
    "                training_config[\"bat_size\"] = bat_size\n",
    "\n",
    "                # now start training\n",
    "                empty_harvestor(harvestor)\n",
    "\n",
    "                trainer(\n",
    "                    seed = SEED,\n",
    "                    raw_train_X = train_X,\n",
    "                    raw_train_Y = train_Y,\n",
    "                    model = None,\n",
    "                    training_config = training_config,\n",
    "                    harvestor = harvestor,          \n",
    "                    misc_info = misc_info\n",
    "                )\n",
    "\n",
    "                # now the summarizer is grepping informations from the harvestor\n",
    "                sub_summarizer[(LR, bat_size)] = np.mean(harvestor[\"monitor_vals\"][-3:])\n",
    "                aid_summarizer[(LR, bat_size)] = {}\n",
    "                \n",
    "                for key in training_config[\"val_loss_criterias\"].keys():\n",
    "                    aid_summarizer[(LR, bat_size)][\"val_\"+key] = np.mean(harvestor[\"val_\"+key][-3:])\n",
    "\n",
    "\n",
    "        para_got = min(sub_summarizer.items(), key=operator.itemgetter(1))[0]\n",
    "        summarizer.append(para_got)\n",
    "        support_summ[para_got] = aid_summarizer[para_got]"
   ]
  },
  {
   "cell_type": "code",
   "execution_count": null,
   "id": "ad68a255",
   "metadata": {},
   "outputs": [],
   "source": [
    "harvestor:\n",
    "  early_stopped: false\n",
    "  early_stopping_epoch: 0\n",
    "  monitor_name: mse\n",
    "  monitor_vals: []\n",
    "  training_losses: []\n",
    "  val_mse: []\n",
    "  val_rmse: []\n",
    "misc_info:\n",
    "  input_x_shape:\n",
    "  - 691\n",
    "  - 8\n",
    "  input_y_shape:\n",
    "  - 691\n",
    "  model_config:\n",
    "    device: cuda\n",
    "    hidden_layers:\n",
    "    - 10\n",
    "    - 5\n",
    "    n_input: 8\n",
    "    n_output: 1\n",
    "  model_init: vanillaPred\n",
    "  save_path_and_name: null\n",
    "  val_percentage: 0.1\n",
    "training_config:\n",
    "  Decay: 0.0001\n",
    "  LR: 0.01\n",
    "  N_Epoch: 200\n",
    "  backdoor: null\n",
    "  bat_size: 600\n",
    "  early_stopping: true\n",
    "  monitor_name: mse\n",
    "  patience: 20\n",
    "  train_loss: mse_loss\n",
    "  val_loss_criterias:\n",
    "    mse: mse_loss\n",
    "    rmse: rmse_loss\n",
    "  validate_times: 20\n",
    "  verbose: false\n"
   ]
  },
  {
   "cell_type": "code",
   "execution_count": null,
   "id": "71cf7bfc",
   "metadata": {},
   "outputs": [],
   "source": []
  },
  {
   "cell_type": "code",
   "execution_count": 9,
   "id": "19995356",
   "metadata": {},
   "outputs": [
    {
     "data": {
      "text/plain": [
       "tensor([[1.0000, 2.0000, 3.0000, 0.2000],\n",
       "        [3.0000, 4.0000, 5.0000, 0.2000],\n",
       "        [1.0000, 2.0000, 6.0000, 0.2000],\n",
       "        [1.0000, 2.0000, 6.0000, 0.2000],\n",
       "        [7.0000, 8.0000, 9.0000, 0.2000],\n",
       "        [1.0000, 6.0000, 4.0000, 0.2000],\n",
       "        [1.0000, 2.0000, 3.0000, 0.8000],\n",
       "        [3.0000, 4.0000, 5.0000, 0.8000],\n",
       "        [1.0000, 2.0000, 6.0000, 0.8000],\n",
       "        [1.0000, 2.0000, 6.0000, 0.8000],\n",
       "        [7.0000, 8.0000, 9.0000, 0.8000],\n",
       "        [1.0000, 6.0000, 4.0000, 0.8000]])"
      ]
     },
     "execution_count": 9,
     "metadata": {},
     "output_type": "execute_result"
    }
   ],
   "source": [
    "Z = torch.Tensor([\n",
    "    [1,2,3],\n",
    "    [3,4,5],\n",
    "    [1,2,6],\n",
    "    [1,2,6],\n",
    "    [7,8,9],\n",
    "    [1,6,4]\n",
    "])\n",
    "\n",
    "quants = [0.2, 0.8]\n",
    "\n",
    "\n",
    "\n",
    "quant_bed = torch.Tensor(quants).view(-1, 1).repeat(1, len(Z)).view(-1).to(Z.device)\n",
    "\n",
    "\n",
    "x_stacked = Z.repeat(len(quants), 1)\n",
    "    \n",
    "train_X = torch.cat([x_stacked, quant_bed.view(-1,1)], dim=1)\n",
    "\n",
    "train_X"
   ]
  },
  {
   "cell_type": "code",
   "execution_count": null,
   "id": "e5452087",
   "metadata": {},
   "outputs": [],
   "source": []
  }
 ],
 "metadata": {
  "kernelspec": {
   "display_name": "Python 3 (ipykernel)",
   "language": "python",
   "name": "python3"
  },
  "language_info": {
   "codemirror_mode": {
    "name": "ipython",
    "version": 3
   },
   "file_extension": ".py",
   "mimetype": "text/x-python",
   "name": "python",
   "nbconvert_exporter": "python",
   "pygments_lexer": "ipython3",
   "version": "3.9.13"
  }
 },
 "nbformat": 4,
 "nbformat_minor": 5
}
