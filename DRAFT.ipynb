{
 "cells": [
  {
   "cell_type": "code",
   "execution_count": 2,
   "id": "ded8b1b5",
   "metadata": {},
   "outputs": [],
   "source": [
    "import os\n",
    "\n",
    "report_path = os.getcwd()+\"/DRAFT_report.txt\"\n",
    "\n",
    "\n",
    "if os.path.exists(report_path):\n",
    "    append_write = 'a' # append if already exists\n",
    "else:\n",
    "    append_write = 'w' # make a new file if not\n",
    "\n",
    "handle = open(report_path, append_write)\n",
    "handle.write(\"\\n\\n\")\n",
    "handle.write(\"# -------------------------------------------------\")\n",
    "handle.write(\"\\n\\n\")\n",
    "\n",
    "handle.write(\"\\n\\n\")\n",
    "handle.write(\"# -------------------------------------------------\")\n",
    "handle.write(\"\\n\\n\")\n",
    "handle.close()"
   ]
  },
  {
   "cell_type": "code",
   "execution_count": 6,
   "id": "ace42894",
   "metadata": {},
   "outputs": [
    {
     "name": "stdout",
     "output_type": "stream",
     "text": [
      "\t After 6560.38 hours of training\n"
     ]
    }
   ],
   "source": [
    "print(\"\\t After {0:.2f} hours of training\".format((23617364)/3600))"
   ]
  },
  {
   "cell_type": "code",
   "execution_count": null,
   "id": "e2e75161",
   "metadata": {},
   "outputs": [],
   "source": []
  }
 ],
 "metadata": {
  "kernelspec": {
   "display_name": "Python 3 (ipykernel)",
   "language": "python",
   "name": "python3"
  },
  "language_info": {
   "codemirror_mode": {
    "name": "ipython",
    "version": 3
   },
   "file_extension": ".py",
   "mimetype": "text/x-python",
   "name": "python",
   "nbconvert_exporter": "python",
   "pygments_lexer": "ipython3",
   "version": "3.9.7"
  }
 },
 "nbformat": 4,
 "nbformat_minor": 5
}
