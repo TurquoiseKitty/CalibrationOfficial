{
 "cells": [
  {
   "cell_type": "code",
   "execution_count": 9,
   "id": "ded8b1b5",
   "metadata": {},
   "outputs": [],
   "source": [
    "import yaml\n",
    "import torch\n",
    "\n",
    "\n",
    "train_X = torch.randn(100, 3)\n",
    "train_Y = torch.randn(100)\n",
    "\n",
    "\n",
    "\n",
    "\n",
    "# small changes to save as config\n",
    "# ------------------------------------\n",
    "vanilla_predNet = \"vanilla_predNet\"\n",
    "# ------------------------------------\n",
    "\n",
    "\n",
    "\n",
    "\n",
    "misc_info = {}\n",
    "\n",
    "misc_info[\"input_x_shape\"] = list(train_X.shape)\n",
    "misc_info[\"input_y_shape\"] = list(train_Y.shape)\n",
    "\n",
    "misc_info[\"val_percentage\"] = 0.1\n",
    "\n",
    "misc_info[\"model_init\"] = vanilla_predNet\n",
    "\n",
    "misc_info[\"model_config\"] = {\n",
    "    \"n_input\" : len(train_X[0]),\n",
    "    \"hidden_layers\" : [10, 10],\n",
    "    \"n_output\" : 1,\n",
    "    \"device\" : 'cuda'\n",
    "}\n",
    "\n",
    "misc_info[\"save_path_and_name\"] = None\n",
    "\n",
    "\n",
    "\n",
    "training_config = {\n",
    "    \"bat_size\" : 64,\n",
    "    \"LR\" : 1E-2,\n",
    "    \"Decay\" : 1E-4,\n",
    "    \"N_Epoch\" : 200,\n",
    "    \"validate_times\" : 20,\n",
    "    \"verbose\" : True,\n",
    "    \"train_loss\" : \"mse_loss\",\n",
    "    \"val_loss_criterias\" : {\n",
    "        \"mse\" : \"mse_loss\",\n",
    "        \"rmse\": \"rmse_loss\"\n",
    "    },\n",
    "    \"early_stopping\" : True,\n",
    "    \"patience\" : 20,\n",
    "    \"monitor_name\" : \"mse\",\n",
    "    \"backdoor\" : None\n",
    "}\n",
    "\n",
    "\n",
    "\n",
    "harvestor = {\n",
    "        \n",
    "    \"training_losses\": [],\n",
    "\n",
    "    \"early_stopped\": False,\n",
    "\n",
    "    \"early_stopping_epoch\": 0,\n",
    "    \"monitor_name\" : \"mse\",\n",
    "    \"monitor_vals\" : [],\n",
    "\n",
    "    \"val_mse\": [],\n",
    "    \"val_rmse\": []\n",
    "\n",
    "}\n",
    "\n",
    "\n",
    "big_dic = {\n",
    "    \"misc_info\": misc_info,\n",
    "    \"training_config\": training_config,\n",
    "    \"harvestor\": harvestor\n",
    "}\n",
    "\n",
    "\n",
    "\n",
    "\n",
    "\n",
    "\n",
    "with open(\"DRAFT_config.yml\", 'w') as yaml_file:\n",
    "    \n",
    "    yaml.dump(big_dic, yaml_file, default_flow_style=False)"
   ]
  },
  {
   "cell_type": "code",
   "execution_count": 6,
   "id": "ace42894",
   "metadata": {},
   "outputs": [
    {
     "name": "stdout",
     "output_type": "stream",
     "text": [
      "\t After 6560.38 hours of training\n"
     ]
    }
   ],
   "source": [
    "print(\"\\t After {0:.2f} hours of training\".format((23617364)/3600))"
   ]
  },
  {
   "cell_type": "code",
   "execution_count": 8,
   "id": "e2e75161",
   "metadata": {},
   "outputs": [
    {
     "data": {
      "text/plain": [
       "[100, 3]"
      ]
     },
     "execution_count": 8,
     "metadata": {},
     "output_type": "execute_result"
    }
   ],
   "source": [
    "list(train_X.shape)"
   ]
  },
  {
   "cell_type": "code",
   "execution_count": 11,
   "id": "9e187334",
   "metadata": {},
   "outputs": [
    {
     "data": {
      "text/plain": [
       "[10, 10]"
      ]
     },
     "execution_count": 11,
     "metadata": {},
     "output_type": "execute_result"
    }
   ],
   "source": [
    "with open('DRAFT_config.yml', 'r') as file:\n",
    "    parse = yaml.safe_load(file)\n",
    "    \n",
    "parse[\"misc_info\"][\"model_config\"][\"hidden_layers\"]"
   ]
  },
  {
   "cell_type": "code",
   "execution_count": null,
   "id": "a6a9d477",
   "metadata": {},
   "outputs": [],
   "source": []
  }
 ],
 "metadata": {
  "kernelspec": {
   "display_name": "Python 3 (ipykernel)",
   "language": "python",
   "name": "python3"
  },
  "language_info": {
   "codemirror_mode": {
    "name": "ipython",
    "version": 3
   },
   "file_extension": ".py",
   "mimetype": "text/x-python",
   "name": "python",
   "nbconvert_exporter": "python",
   "pygments_lexer": "ipython3",
   "version": "3.9.13"
  }
 },
 "nbformat": 4,
 "nbformat_minor": 5
}
