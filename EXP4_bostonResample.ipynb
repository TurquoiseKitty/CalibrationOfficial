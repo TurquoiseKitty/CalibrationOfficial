{
 "cells": [
  {
   "cell_type": "code",
   "execution_count": 1,
   "id": "ce55e565",
   "metadata": {},
   "outputs": [],
   "source": [
    "from data_utils import get_uci_data, common_processor_UCI, seed_all, california_housing_process, normalize, splitter\n",
    "import numpy as np\n",
    "from scipy.spatial import distance\n",
    "\n",
    "\n",
    "import os\n",
    "import yaml\n",
    "from Experiments.EXP1.trainer import trainer, model_callByName, loss_callByName\n",
    "from data_utils import get_uci_data, common_processor_UCI, seed_all, california_housing_process, normalize, splitter\n",
    "from Experiments.EXP1.TestPerform import testPerform_muSigma, testPerform_kernel\n",
    "import torch\n",
    "import pandas as pd\n",
    "from sklearn.ensemble import RandomForestRegressor\n",
    "\n",
    "\n",
    "\n",
    "\n",
    "x, y = get_uci_data(\"boston\")\n",
    "\n",
    "x_norm, x_normalizer = normalize(x)\n",
    "\n",
    "x = x_norm\n",
    "\n",
    "tr_idx, te_idx = splitter(int(len(x)/2), int(len(x)/2))\n",
    "\n",
    "# we resample from tr_idx to create a shifted distribution\n",
    "\n",
    "raw_train_X, raw_train_Y, test_X, test_Y = x[tr_idx], y[tr_idx], x[te_idx], y[te_idx]\n",
    "\n",
    "x_bar = np.mean(raw_train_X, axis = 0)\n",
    "\n",
    "cov_mat = np.cov(raw_train_X.T)\n",
    "\n",
    "x_seed = np.random.multivariate_normal(mean = x_bar, cov = cov_mat, size = 1)[0]\n",
    "\n",
    "\n",
    "resample_pickers = np.random.multivariate_normal(mean = x_seed, cov = 0.3 * cov_mat, size = 10000)\n",
    "\n",
    "picked_idx = []\n",
    "\n",
    "for picker in resample_pickers:\n",
    "    \n",
    "    closest_index = distance.cdist(raw_train_X, [picker]).argmin()\n",
    "    picked_idx.append(closest_index)\n",
    "    \n",
    "train_X = raw_train_X[np.array(picked_idx)]\n",
    "train_Y = raw_train_Y[np.array(picked_idx)]\n",
    "\n",
    "train_X, test_X = torch.Tensor(x), torch.Tensor(test_X)\n",
    "train_Y, test_Y = torch.Tensor(y).to(torch.device(\"cuda\")), torch.Tensor(test_Y).to(torch.device(\"cuda\"))"
   ]
  },
  {
   "cell_type": "markdown",
   "id": "c7999e80",
   "metadata": {},
   "source": [
    "# benchmarks"
   ]
  },
  {
   "cell_type": "code",
   "execution_count": 2,
   "id": "c7507b68",
   "metadata": {},
   "outputs": [
    {
     "name": "stdout",
     "output_type": "stream",
     "text": [
      "model: HNN on data: shifted boston\n",
      "{'rmse_loss': 5.571051597595215, 'mean_std_norm_loss': 2.3370025157928467, 'MACE_muSigma': 0.09484067559242249, 'AGCE_muSigma': 0.11602626740932465, 'CheckScore_muSigma': 1.609297752380371}\n",
      "model: MC_drop on data: shifted boston\n",
      "{'rmse_loss': 7.239336013793945, 'mean_std_norm_loss': 2.349358558654785, 'MACE_muSigma': 0.16299006342887878, 'AGCE_muSigma': 0.21959999203681946, 'CheckScore_muSigma': 1.86886727809906}\n",
      "model: DeepEnsemble on data: shifted boston\n",
      "{'rmse_loss': 5.573818206787109, 'mean_std_norm_loss': 2.2600443363189697, 'MACE_muSigma': 0.08459816873073578, 'AGCE_muSigma': 0.14312119781970978, 'CheckScore_muSigma': 1.5405875444412231}\n"
     ]
    }
   ],
   "source": [
    "\n",
    "\n",
    "\n",
    "for modelname in [ \"HNN\", \"MC_drop\", \"DeepEnsemble\"]:\n",
    "\n",
    "    # train base model\n",
    "    print(\"model: \"+ modelname +\" on data: shifted boston\")\n",
    "\n",
    "    with open(os.getcwd()+\"/Experiments/EXP1/config_bin/\"+modelname+\"_on_wine_config.yml\", 'r') as file:\n",
    "        base_configs = yaml.safe_load(file)\n",
    "\n",
    "    base_misc_info = base_configs[\"misc_info\"]\n",
    "    base_train_config= base_configs[\"training_config\"]\n",
    "\n",
    "    base_misc_info[\"model_config\"][\"hidden_layers\"] = [10, 5]\n",
    "    base_misc_info[\"model_config\"][\"n_input\"] = x.shape[1]\n",
    "\n",
    "    base_train_config[\"LR\"] = 5E-3\n",
    "    base_train_config[\"bat_size\"] = 64\n",
    "\n",
    "    crits_dic = {}\n",
    "\n",
    "    \n",
    "\n",
    "    base_model = model_callByName[base_misc_info[\"model_init\"]](**base_misc_info[\"model_config\"])\n",
    "\n",
    "    \n",
    "\n",
    "    trainer(\n",
    "        raw_train_X = train_X,\n",
    "        raw_train_Y = train_Y,\n",
    "        model = base_model,\n",
    "        training_config = base_train_config,\n",
    "        harvestor = None,          \n",
    "        misc_info = base_misc_info,\n",
    "        diff_trainingset = True\n",
    "    )\n",
    "\n",
    "\n",
    "\n",
    "    record = testPerform_muSigma(test_X, test_Y, model_name= modelname, model = base_model)\n",
    "\n",
    "    print(record)"
   ]
  },
  {
   "cell_type": "markdown",
   "id": "88073c03",
   "metadata": {},
   "source": [
    "# VanillaPred"
   ]
  },
  {
   "cell_type": "code",
   "execution_count": 3,
   "id": "fc9334e7",
   "metadata": {},
   "outputs": [
    {
     "name": "stdout",
     "output_type": "stream",
     "text": [
      "model: vanillaPred on data: shifted boston\n"
     ]
    }
   ],
   "source": [
    "modelname =  \"vanillaPred\"\n",
    "\n",
    "# train base model\n",
    "print(\"model: \"+ modelname +\" on data: shifted boston\")\n",
    "\n",
    "with open(os.getcwd()+\"/Experiments/EXP1/config_bin/\"+modelname+\"_on_wine_config.yml\", 'r') as file:\n",
    "    base_configs = yaml.safe_load(file)\n",
    "\n",
    "base_misc_info = base_configs[\"misc_info\"]\n",
    "base_train_config= base_configs[\"training_config\"]\n",
    "\n",
    "base_misc_info[\"model_config\"][\"hidden_layers\"] = [10, 5]\n",
    "base_misc_info[\"model_config\"][\"n_input\"] = x.shape[1]\n",
    "\n",
    "base_train_config[\"LR\"] = 5E-3\n",
    "base_train_config[\"bat_size\"] = 64\n",
    "\n",
    "crits_dic = {}\n",
    "\n",
    "\n",
    "\n",
    "pred_model = model_callByName[base_misc_info[\"model_init\"]](**base_misc_info[\"model_config\"])\n",
    "\n",
    "N_train = int(len(train_X)*0.7)\n",
    "N_recal = int(len(train_X)*0.3)\n",
    "\n",
    "tr_idx, recal_idx = splitter(N_train, N_recal)\n",
    "\n",
    "\n",
    "\n",
    "trainer(\n",
    "    raw_train_X = train_X[tr_idx],\n",
    "    raw_train_Y = train_Y[tr_idx],\n",
    "    model = pred_model,\n",
    "    training_config = base_train_config,\n",
    "    harvestor = None,          \n",
    "    misc_info = base_misc_info,\n",
    "    diff_trainingset = True\n",
    ")"
   ]
  },
  {
   "cell_type": "code",
   "execution_count": 4,
   "id": "5939cd01",
   "metadata": {},
   "outputs": [
    {
     "name": "stdout",
     "output_type": "stream",
     "text": [
      "{'MACE_Loss': 0.02700219117105007, 'AGCE_Loss': 0.11656970530748367, 'CheckScore': 0.9331902861595154}\n"
     ]
    }
   ],
   "source": [
    "width = 10\n",
    "\n",
    "record = testPerform_kernel(\n",
    "        test_X, test_Y, train_X[recal_idx], train_Y[recal_idx], \n",
    "        model_name = \"vanillaKernel\", model= pred_model, wid = width)\n",
    "print(record)               "
   ]
  },
  {
   "cell_type": "code",
   "execution_count": null,
   "id": "0745bfa9",
   "metadata": {},
   "outputs": [],
   "source": []
  }
 ],
 "metadata": {
  "kernelspec": {
   "display_name": "Python 3 (ipykernel)",
   "language": "python",
   "name": "python3"
  },
  "language_info": {
   "codemirror_mode": {
    "name": "ipython",
    "version": 3
   },
   "file_extension": ".py",
   "mimetype": "text/x-python",
   "name": "python",
   "nbconvert_exporter": "python",
   "pygments_lexer": "ipython3",
   "version": "3.9.7"
  }
 },
 "nbformat": 4,
 "nbformat_minor": 5
}
