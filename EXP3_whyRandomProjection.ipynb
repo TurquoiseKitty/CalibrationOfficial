{
 "cells": [
  {
   "cell_type": "markdown",
   "id": "7a8f84f1",
   "metadata": {},
   "source": [
    "# Use the blog dataset"
   ]
  },
  {
   "cell_type": "code",
   "execution_count": 1,
   "id": "63b7d97b",
   "metadata": {},
   "outputs": [],
   "source": [
    "import pandas as pd\n",
    "from data_utils import splitter, seed_all, normalize\n",
    "import numpy as np\n",
    "import torch\n",
    "from src.models import vanilla_predNet, MC_dropnet, Deep_Ensemble\n",
    "from src.losses import *\n",
    "from Experiments.EXP1.TestPerform import testPerform_muSigma\n",
    "\n",
    "\n",
    "raw_df = pd.read_csv(\"Dataset/BlogFeedback/blogData_train.csv\", header = None)\n",
    "\n",
    "x = raw_df.iloc[:, :280].to_numpy()\n",
    "\n",
    "y = raw_df.iloc[:, 280].to_numpy()\n",
    "\n",
    "# we only select those y >= 1\n",
    "\n",
    "x = x[y >= 1]\n",
    "y = y[y >= 1]\n",
    "\n",
    "y = np.clip(np.log(y), 0, 7)\n",
    "\n",
    "SEED = 1234\n",
    "\n",
    "seed_all(SEED)\n",
    "\n",
    "x_normed, x_normalizer = normalize(x)\n",
    "\n",
    "x = x_normed\n",
    "\n",
    "N_train = int(len(x) * 0.9)\n",
    "N_test = int(len(x) * 0.1)\n",
    "\n",
    "tr_idx = np.arange(len(x))[:N_train]\n",
    "\n",
    "te_idx = np.arange(len(x))[N_train:N_train+N_test]\n",
    "\n",
    "\n",
    "test_X, test_Y = x[te_idx], y[te_idx]\n",
    "\n",
    "\n",
    "\n",
    "x_reshaped, y_reshaped = x[tr_idx], y[tr_idx]\n",
    "\n",
    "\n",
    "N_model_train = int(len(y_reshaped) * 0.7)\n",
    "N_recalibration = int(len(y_reshaped) * 0.3)\n",
    "\n",
    "tr_new_idx, recal_idx = splitter(N_model_train, N_recalibration, seed = SEED)\n",
    "\n",
    "\n",
    "recal_X = x_reshaped[recal_idx]\n",
    "recal_Y = y_reshaped[recal_idx]\n",
    "\n",
    "\n",
    "\n",
    "x_remain, y_remain = x_reshaped[tr_new_idx], y_reshaped[tr_new_idx]\n",
    "\n",
    "\n",
    "split = 0.8\n",
    "train_idx, val_idx = splitter(int(split * len(y_remain)), len(y_remain) - int(split * len(y_remain)), seed = SEED)\n",
    "\n",
    "\n",
    "train_X, train_Y = x_remain[train_idx], y_remain[train_idx]\n",
    "val_X, val_Y = x_remain[val_idx], y_remain[val_idx]\n",
    "\n",
    "n_feature = x.shape[1]\n",
    "\n",
    "epochs = 300\n",
    "\n",
    "\n",
    "train_X = torch.Tensor(train_X)\n",
    "train_Y = torch.Tensor(train_Y).view(-1).cuda()\n",
    "val_X = torch.Tensor(val_X)\n",
    "val_Y = torch.Tensor(val_Y).view(-1).cuda()\n",
    "test_X = torch.Tensor(test_X)\n",
    "test_Y = torch.Tensor(test_Y).view(-1).cuda()\n",
    "\n",
    "recal_X = torch.Tensor(recal_X)\n",
    "recal_Y = torch.Tensor(recal_Y).view(-1).cuda()\n"
   ]
  },
  {
   "cell_type": "code",
   "execution_count": 31,
   "id": "2e8e8afe",
   "metadata": {},
   "outputs": [
    {
     "data": {
      "text/plain": [
       "(array([8595., 2774., 2359., 1816., 1341.,  805.,  557.,  337.,  202.,\n",
       "          52.]),\n",
       " array([0. , 0.7, 1.4, 2.1, 2.8, 3.5, 4.2, 4.9, 5.6, 6.3, 7. ]),\n",
       " <BarContainer object of 10 artists>)"
      ]
     },
     "execution_count": 31,
     "metadata": {},
     "output_type": "execute_result"
    },
    {
     "data": {
      "image/png": "[encoded data removed]",
      "text/plain": [
       "<Figure size 640x480 with 1 Axes>"
      ]
     },
     "metadata": {},
     "output_type": "display_data"
    }
   ],
   "source": [
    "import matplotlib.pyplot as plt\n",
    "\n",
    "plt.hist(y)"
   ]
  },
  {
   "cell_type": "markdown",
   "id": "51221c04",
   "metadata": {},
   "source": [
    "# Benchmark, deep ensemble"
   ]
  },
  {
   "cell_type": "code",
   "execution_count": 2,
   "id": "296f8528",
   "metadata": {},
   "outputs": [
    {
     "name": "stdout",
     "output_type": "stream",
     "text": [
      "Training model with hidden:  [100, 20]\n",
      "epoch  0\n",
      "     loss: nll, 0.6890813708305359\n",
      "     loss: rmse, 1.2517714500427246\n",
      "     loss: MACE, 0.027405934408307076\n",
      "epoch  15\n",
      "     loss: nll, 0.5831588506698608\n",
      "     loss: rmse, 1.1078665256500244\n",
      "     loss: MACE, 0.03899054601788521\n",
      "epoch  30\n",
      "     loss: nll, 0.7696754932403564\n",
      "     loss: rmse, 1.1240923404693604\n",
      "     loss: MACE, 0.04635414853692055\n",
      "Early Stopped at Epoch  40\n",
      "{'rmse_loss': 1.6169012784957886, 'mean_std_norm_loss': 1.592037320137024, 'MACE_muSigma': 0.08714040368795395, 'AGCE_muSigma': 0.09966491162776947, 'CheckScore_muSigma': 0.34913888573646545}\n"
     ]
    }
   ],
   "source": [
    "# benchmark, deep ensebmle\n",
    "hidden = [100, 20]\n",
    "\n",
    "print(\"Training model with hidden: \", hidden)\n",
    "deepEnsemble_model = Deep_Ensemble(\n",
    "    n_input = n_feature,\n",
    "    hidden_layers = hidden\n",
    ")\n",
    "deepEnsemble_model.train(\n",
    "    train_X, train_Y, val_X, val_Y,\n",
    "    bat_size = 64,\n",
    "    LR = 5E-4,\n",
    "\n",
    "    N_Epoch = epochs,\n",
    "    validate_times = 20,\n",
    "    verbose = True,\n",
    "    train_loss = mean_std_forEnsemble,\n",
    "    val_loss_criterias = {\n",
    "        \"nll\" : mean_std_forEnsemble,\n",
    "        \"rmse\": rmse_loss,\n",
    "        \"MACE\": MACE_muSigma\n",
    "    },\n",
    "    early_stopping = True,\n",
    "    patience = 20,\n",
    "    monitor_name = \"rmse\"\n",
    ")\n",
    "\n",
    "record = testPerform_muSigma(test_X, test_Y, model_name= \"DeepEnsemble\", model = deepEnsemble_model)\n",
    "\n",
    "print(record)\n",
    "    \n",
    "    \n",
    "\n"
   ]
  },
  {
   "cell_type": "code",
   "execution_count": 37,
   "id": "c0269a34",
   "metadata": {},
   "outputs": [
    {
     "data": {
      "text/plain": [
       "tensor([1.3863, 0.0000, 0.0000, 0.0000, 1.0986, 0.0000, 0.6931, 0.0000, 0.0000,\n",
       "        0.6931], device='cuda:0')"
      ]
     },
     "execution_count": 37,
     "metadata": {},
     "output_type": "execute_result"
    }
   ],
   "source": [
    "test_Y[:10]"
   ]
  },
  {
   "cell_type": "code",
   "execution_count": 38,
   "id": "c8f17a26",
   "metadata": {},
   "outputs": [
    {
     "data": {
      "text/plain": [
       "tensor([[1.5531, 0.4687],\n",
       "        [1.0844, 0.2462],\n",
       "        [0.7312, 0.2217],\n",
       "        [1.0458, 0.3553],\n",
       "        [1.0856, 0.5783],\n",
       "        [0.4786, 0.2815],\n",
       "        [0.6131, 0.7375],\n",
       "        [2.1985, 0.3860],\n",
       "        [1.2352, 0.2546],\n",
       "        [0.7082, 0.2603]], device='cuda:0', grad_fn=<StackBackward0>)"
      ]
     },
     "execution_count": 38,
     "metadata": {},
     "output_type": "execute_result"
    }
   ],
   "source": [
    "deepEnsemble_model.predict(test_X[:10])"
   ]
  },
  {
   "cell_type": "markdown",
   "id": "e4696d13",
   "metadata": {},
   "source": [
    "# HNN network is not doing good. We check the post recalibrate method. "
   ]
  },
  {
   "cell_type": "code",
   "execution_count": 2,
   "id": "d49a1bb1",
   "metadata": {},
   "outputs": [
    {
     "name": "stdout",
     "output_type": "stream",
     "text": [
      "Training model with hidden:  [100, 10]\n",
      "epoch  0\n",
      "     loss: mse, 1.428754448890686\n",
      "     loss: rmse, 1.1953052282333374\n",
      "epoch  15\n",
      "     loss: mse, 1.2855403423309326\n",
      "     loss: rmse, 1.1338167190551758\n",
      "epoch  30\n",
      "     loss: mse, 1.2759419679641724\n",
      "     loss: rmse, 1.1295759677886963\n",
      "epoch  45\n",
      "     loss: mse, 1.2598309516906738\n",
      "     loss: rmse, 1.1224218606948853\n",
      "Early Stopped at Epoch  48\n"
     ]
    },
    {
     "data": {
      "text/plain": [
       "tensor(1.5838, device='cuda:0', grad_fn=<SqrtBackward0>)"
      ]
     },
     "execution_count": 2,
     "metadata": {},
     "output_type": "execute_result"
    }
   ],
   "source": [
    "hidden = [100, 10]\n",
    "\n",
    "print(\"Training model with hidden: \", hidden)\n",
    "pred_model = vanilla_predNet(\n",
    "    n_input = n_feature,\n",
    "    hidden_layers = hidden\n",
    ")\n",
    "pred_model.train(\n",
    "    train_X, train_Y, val_X, val_Y,\n",
    "    bat_size = 64,\n",
    "    LR = 1E-2,\n",
    "\n",
    "    N_Epoch = epochs,\n",
    "    validate_times = 20,\n",
    "    verbose = True,\n",
    "    train_loss = mse_loss,\n",
    "    val_loss_criterias = {\n",
    "        \"mse\": mse_loss,\n",
    "        \"rmse\": rmse_loss,\n",
    "    },\n",
    "    early_stopping = True,\n",
    "    patience = 20,\n",
    "    monitor_name = \"rmse\"\n",
    ")\n",
    "\n",
    "rmse_loss(pred_model(test_X), test_Y)"
   ]
  },
  {
   "cell_type": "markdown",
   "id": "6ef55ea8",
   "metadata": {},
   "source": [
    "# Also consider random forest model"
   ]
  },
  {
   "cell_type": "code",
   "execution_count": 53,
   "id": "12b93369",
   "metadata": {},
   "outputs": [
    {
     "data": {
      "text/plain": [
       "tensor(1.0244, device='cuda:0')"
      ]
     },
     "execution_count": 53,
     "metadata": {},
     "output_type": "execute_result"
    }
   ],
   "source": [
    "from sklearn.ensemble import RandomForestRegressor\n",
    "\n",
    "depth = 10\n",
    "\n",
    "rf_model = RandomForestRegressor(max_depth=depth, random_state=0)\n",
    "rf_model.fit(train_X.cpu().numpy(), train_Y.cpu().numpy())\n",
    "\n",
    "rmse_loss(torch.Tensor(rf_model.predict(test_X.cpu().numpy())).cuda(), test_Y)"
   ]
  },
  {
   "cell_type": "code",
   "execution_count": 54,
   "id": "86b0eeea",
   "metadata": {},
   "outputs": [
    {
     "data": {
      "text/plain": [
       "tensor(1.2591, device='cuda:0')"
      ]
     },
     "execution_count": 54,
     "metadata": {},
     "output_type": "execute_result"
    }
   ],
   "source": [
    "from sklearn.linear_model import Ridge\n",
    "\n",
    "alpha = 0.5\n",
    "\n",
    "ridge_model = Ridge(alpha = alpha)\n",
    "    \n",
    "ridge_model.fit(train_X.cpu().numpy(), train_Y.cpu().numpy())\n",
    "\n",
    "rmse_loss(torch.Tensor(ridge_model.predict(test_X.cpu().numpy())).cuda(), test_Y)"
   ]
  },
  {
   "cell_type": "markdown",
   "id": "6acdee90",
   "metadata": {},
   "source": [
    "# use random forest as base model, to check the influence of projection dimension"
   ]
  },
  {
   "cell_type": "code",
   "execution_count": 5,
   "id": "ce947dc2",
   "metadata": {},
   "outputs": [
    {
     "name": "stdout",
     "output_type": "stream",
     "text": [
      "5\n",
      "{'MACE_Loss': 0.030046414583921432, 'AGCE_Loss': 0.06269697844982147, 'CheckScore': 0.3656562864780426}\n",
      "10\n",
      "{'MACE_Loss': 0.028883380815386772, 'AGCE_Loss': 0.05828697979450226, 'CheckScore': 0.35126444697380066}\n",
      "20\n",
      "{'MACE_Loss': 0.030182234942913055, 'AGCE_Loss': 0.06343589723110199, 'CheckScore': 0.3432447016239166}\n"
     ]
    }
   ],
   "source": [
    "from Experiments.EXP1.TestPerform import testPerform_projKernel\n",
    "from sklearn import random_projection\n",
    "\n",
    "n_component = 3\n",
    "transformer = random_projection.GaussianRandomProjection(n_components = n_component)\n",
    "reformer = lambda x : torch.Tensor(transformer.fit_transform(x.cpu().numpy()))\n",
    "\n",
    "for width in [5, 10, 20]:\n",
    "    print(width)\n",
    "    \n",
    "    record = testPerform_projKernel(\n",
    "        test_X, test_Y, recal_X, recal_Y, \n",
    "        model_name = \"vanillaKernel_RandomProj\", model= pred_model, reformer= reformer, wid = width) \n",
    "    \n",
    "    print(record)\n",
    "\n",
    "\n"
   ]
  },
  {
   "cell_type": "code",
   "execution_count": 6,
   "id": "d2fee377",
   "metadata": {},
   "outputs": [
    {
     "name": "stdout",
     "output_type": "stream",
     "text": [
      "10\n",
      "{'MACE_Loss': 0.03994020074605942, 'AGCE_Loss': 0.06185375526547432, 'CheckScore': 0.3454729914665222}\n",
      "20\n",
      "{'MACE_Loss': 0.031265612691640854, 'AGCE_Loss': 0.06667883694171906, 'CheckScore': 0.344874769449234}\n",
      "30\n",
      "{'MACE_Loss': 0.030824823305010796, 'AGCE_Loss': 0.057464711368083954, 'CheckScore': 0.34284457564353943}\n"
     ]
    }
   ],
   "source": [
    "from Experiments.EXP1.TestPerform import testPerform_projKernel\n",
    "from sklearn import random_projection\n",
    "\n",
    "n_component = 10\n",
    "transformer = random_projection.GaussianRandomProjection(n_components = n_component)\n",
    "reformer = lambda x : torch.Tensor(transformer.fit_transform(x.cpu().numpy()))\n",
    "\n",
    "for width in [10, 20, 30]:\n",
    "    print(width)\n",
    "    \n",
    "    record = testPerform_projKernel(\n",
    "        test_X, test_Y, recal_X, recal_Y, \n",
    "        model_name = \"vanillaKernel_RandomProj\", model= pred_model, reformer= reformer, wid = width) \n",
    "    \n",
    "    print(record)\n",
    "\n"
   ]
  },
  {
   "cell_type": "code",
   "execution_count": 7,
   "id": "1a78cfa2",
   "metadata": {},
   "outputs": [
    {
     "name": "stdout",
     "output_type": "stream",
     "text": [
      "30\n",
      "{'MACE_Loss': 0.03053273819386959, 'AGCE_Loss': 0.06158284842967987, 'CheckScore': 0.34302422404289246}\n",
      "50\n",
      "{'MACE_Loss': 0.030036889016628265, 'AGCE_Loss': 0.04866030439734459, 'CheckScore': 0.3429983854293823}\n",
      "70\n",
      "{'MACE_Loss': 0.029965028166770935, 'AGCE_Loss': 0.0594739131629467, 'CheckScore': 0.342986136674881}\n"
     ]
    }
   ],
   "source": [
    "from Experiments.EXP1.TestPerform import testPerform_projKernel\n",
    "from sklearn import random_projection\n",
    "\n",
    "n_component = 50\n",
    "transformer = random_projection.GaussianRandomProjection(n_components = n_component)\n",
    "reformer = lambda x : torch.Tensor(transformer.fit_transform(x.cpu().numpy()))\n",
    "\n",
    "for width in [30, 50, 70]:\n",
    "    print(width)\n",
    "    \n",
    "    record = testPerform_projKernel(\n",
    "        test_X, test_Y, recal_X, recal_Y, \n",
    "        model_name = \"vanillaKernel_RandomProj\", model= pred_model, reformer= reformer, wid = width) \n",
    "    \n",
    "    print(record)"
   ]
  },
  {
   "cell_type": "code",
   "execution_count": 8,
   "id": "afba9759",
   "metadata": {},
   "outputs": [
    {
     "name": "stdout",
     "output_type": "stream",
     "text": [
      "70\n",
      "{'MACE_Loss': 0.030177149921655655, 'AGCE_Loss': 0.04282376170158386, 'CheckScore': 0.34301307797431946}\n",
      "100\n",
      "{'MACE_Loss': 0.03023158572614193, 'AGCE_Loss': 0.04981425032019615, 'CheckScore': 0.3430353105068207}\n",
      "200\n",
      "{'MACE_Loss': 0.03048211894929409, 'AGCE_Loss': 0.07084621489048004, 'CheckScore': 0.3430708646774292}\n"
     ]
    }
   ],
   "source": [
    "from Experiments.EXP1.TestPerform import testPerform_projKernel\n",
    "from sklearn import random_projection\n",
    "\n",
    "n_component = 100\n",
    "transformer = random_projection.GaussianRandomProjection(n_components = n_component)\n",
    "reformer = lambda x : torch.Tensor(transformer.fit_transform(x.cpu().numpy()))\n",
    "\n",
    "for width in [70, 100, 200]:\n",
    "    print(width)\n",
    "    \n",
    "    record = testPerform_projKernel(\n",
    "        test_X, test_Y, recal_X, recal_Y, \n",
    "        model_name = \"vanillaKernel_RandomProj\", model= pred_model, reformer= reformer, wid = width) \n",
    "    \n",
    "    print(record)"
   ]
  },
  {
   "cell_type": "code",
   "execution_count": 3,
   "id": "e0d99856",
   "metadata": {},
   "outputs": [
    {
     "name": "stdout",
     "output_type": "stream",
     "text": [
      "70\n",
      "{'MACE_Loss': 0.019108867272734642, 'AGCE_Loss': 0.06132598593831062, 'CheckScore': 0.3747525215148926}\n",
      "100\n",
      "{'MACE_Loss': 0.019033538177609444, 'AGCE_Loss': 0.041515592485666275, 'CheckScore': 0.3747354745864868}\n",
      "200\n",
      "{'MACE_Loss': 0.01888127066195011, 'AGCE_Loss': 0.04919945076107979, 'CheckScore': 0.3747197091579437}\n"
     ]
    }
   ],
   "source": [
    "from Experiments.EXP1.TestPerform import testPerform_projKernel\n",
    "from sklearn import random_projection\n",
    "\n",
    "n_component = 100\n",
    "transformer = random_projection.GaussianRandomProjection(n_components = n_component)\n",
    "reformer = lambda x : torch.Tensor(transformer.fit_transform(x.cpu().numpy()))\n",
    "\n",
    "for width in [70, 100, 200]:\n",
    "    print(width)\n",
    "    \n",
    "    record = testPerform_projKernel(\n",
    "        test_X, test_Y, recal_X, recal_Y, \n",
    "        model_name = \"vanillaKernel_RandomProj\", model= pred_model, reformer= reformer, wid = width) \n",
    "    \n",
    "    print(record)"
   ]
  },
  {
   "cell_type": "code",
   "execution_count": null,
   "id": "a744a9e3",
   "metadata": {},
   "outputs": [],
   "source": []
  }
 ],
 "metadata": {
  "kernelspec": {
   "display_name": "Python 3 (ipykernel)",
   "language": "python",
   "name": "python3"
  },
  "language_info": {
   "codemirror_mode": {
    "name": "ipython",
    "version": 3
   },
   "file_extension": ".py",
   "mimetype": "text/x-python",
   "name": "python",
   "nbconvert_exporter": "python",
   "pygments_lexer": "ipython3",
   "version": "3.9.13"
  }
 },
 "nbformat": 4,
 "nbformat_minor": 5
}
