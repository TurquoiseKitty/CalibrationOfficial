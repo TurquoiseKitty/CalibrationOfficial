{
 "cells": [
  {
   "cell_type": "code",
   "execution_count": 6,
   "id": "4b8f2aa9",
   "metadata": {},
   "outputs": [],
   "source": [
    "# data processing from https://www.kaggle.com/code/mohamedabdelaziz187/california-housing-prices-eda-preprocess-ml-dl\n",
    "import matplotlib.pyplot as plt\n",
    "import pandas as pd\n",
    "from data_utils import splitter, seed_all, normalize\n",
    "import numpy as np\n",
    "import torch\n",
    "from src.models import vanilla_predNet, MC_dropnet, Deep_Ensemble\n",
    "from src.losses import *\n",
    "from Experiments.EXP1.TestPerform import testPerform_muSigma\n",
    "\n",
    "\n",
    "\n",
    "df = pd.read_csv('Dataset/CaliforniaHousing/housing.csv')\n",
    "df = df.dropna(axis = 0)\n",
    "\n",
    "# log transformation \n",
    "t = 9e-1\n",
    "df['total_rooms'] = np.log(df['total_rooms'] + t)\n",
    "df['total_bedrooms'] = np.log(df['total_bedrooms'] + t)\n",
    "df['population']  = np.log(df['population'] +t)\n",
    "df['households'] = np.log(df['households'] + t)\n",
    "df['total_rooms'] = np.log(df['total_rooms'] + t)\n",
    "\n",
    "for column in df.drop(columns=['ocean_proximity','median_house_value' ]).columns:\n",
    "    df[column] = (df[column] - np.mean(df[column])) / np.std(df[column])\n",
    "    \n",
    "df = pd.get_dummies(df)\n",
    "\n",
    "x = np.array(df.drop(columns = ['median_house_value']).values)\n",
    "y = np.array(df.median_house_value.values) / 1E4\n",
    "\n",
    "\n",
    "\n",
    "\n",
    "\n",
    "SEED = 5678\n",
    "\n",
    "seed_all(SEED)\n",
    "\n",
    "# x = x_normed\n",
    "\n",
    "N_train = int(len(x) * 0.9)\n",
    "N_test = int(len(x) * 0.1)\n",
    "\n",
    "tr_idx = np.arange(len(x))[:N_train]\n",
    "\n",
    "te_idx = np.arange(len(x))[N_train:N_train+N_test]\n",
    "\n",
    "\n",
    "test_X, test_Y = x[te_idx], y[te_idx]\n",
    "\n",
    "\n",
    "\n",
    "x_reshaped, y_reshaped = x[tr_idx], y[tr_idx]\n",
    "\n",
    "\n",
    "N_model_train = int(len(y_reshaped) * 0.7)\n",
    "N_recalibration = int(len(y_reshaped) * 0.3)\n",
    "\n",
    "tr_new_idx, recal_idx = splitter(N_model_train, N_recalibration, seed = SEED)\n",
    "\n",
    "\n",
    "recal_X = x_reshaped[recal_idx]\n",
    "recal_Y = y_reshaped[recal_idx]\n",
    "\n",
    "\n",
    "\n",
    "x_remain, y_remain = x_reshaped[tr_new_idx], y_reshaped[tr_new_idx]\n",
    "\n",
    "\n",
    "split = 0.8\n",
    "train_idx, val_idx = splitter(int(split * len(y_remain)), len(y_remain) - int(split * len(y_remain)), seed = SEED)\n",
    "\n",
    "\n",
    "train_X, train_Y = x_remain[train_idx], y_remain[train_idx]\n",
    "val_X, val_Y = x_remain[val_idx], y_remain[val_idx]\n",
    "\n",
    "n_feature = x.shape[1]\n",
    "\n",
    "epochs = 300\n",
    "\n",
    "\n",
    "train_X = torch.Tensor(train_X)\n",
    "train_Y = torch.Tensor(train_Y).view(-1).cuda()\n",
    "val_X = torch.Tensor(val_X)\n",
    "val_Y = torch.Tensor(val_Y).view(-1).cuda()\n",
    "test_X = torch.Tensor(test_X)\n",
    "test_Y = torch.Tensor(test_Y).view(-1).cuda()\n",
    "\n",
    "recal_X = torch.Tensor(recal_X)\n",
    "recal_Y = torch.Tensor(recal_Y).view(-1).cuda()"
   ]
  },
  {
   "cell_type": "code",
   "execution_count": 10,
   "id": "36c25859",
   "metadata": {},
   "outputs": [
    {
     "data": {
      "text/plain": [
       "(20433, 13)"
      ]
     },
     "execution_count": 10,
     "metadata": {},
     "output_type": "execute_result"
    }
   ],
   "source": [
    "x.shape"
   ]
  },
  {
   "cell_type": "markdown",
   "id": "903ece3d",
   "metadata": {},
   "source": [
    "# DeepEnsembleBenchmark"
   ]
  },
  {
   "cell_type": "code",
   "execution_count": 9,
   "id": "7a7b1ec9",
   "metadata": {
    "scrolled": true
   },
   "outputs": [
    {
     "name": "stdout",
     "output_type": "stream",
     "text": [
      "Training model with hidden:  [100, 50]\n",
      "epoch  0\n",
      "     loss: nll, 2.836230993270874\n",
      "     loss: rmse, 11.289331436157227\n",
      "     loss: MACE, 0.11837279796600342\n",
      "epoch  15\n",
      "     loss: nll, 2.1526119709014893\n",
      "     loss: rmse, 6.147111415863037\n",
      "     loss: MACE, 0.040913332253694534\n",
      "epoch  30\n",
      "     loss: nll, 2.068626880645752\n",
      "     loss: rmse, 5.739211559295654\n",
      "     loss: MACE, 0.03142993524670601\n",
      "epoch  45\n",
      "     loss: nll, 2.0333800315856934\n",
      "     loss: rmse, 5.54274845123291\n",
      "     loss: MACE, 0.039781469851732254\n",
      "Early Stopped at Epoch  52\n",
      "{'rmse_loss': 4.988325595855713, 'mean_std_norm_loss': 1.9994369745254517, 'MACE_muSigma': 0.04316180944442749, 'AGCE_muSigma': 0.056550152599811554, 'CheckScore_muSigma': 1.23610520362854}\n"
     ]
    }
   ],
   "source": [
    "\n",
    "\n",
    "# benchmark, deep ensebmle\n",
    "hidden = [100, 50]\n",
    "\n",
    "print(\"Training model with hidden: \", hidden)\n",
    "deepEnsemble_model = Deep_Ensemble(\n",
    "    n_input = n_feature,\n",
    "    hidden_layers = hidden\n",
    ")\n",
    "deepEnsemble_model.train(\n",
    "    train_X, train_Y, val_X, val_Y,\n",
    "    bat_size = 64,\n",
    "    LR = 5E-3,\n",
    "\n",
    "    N_Epoch = epochs,\n",
    "    validate_times = 20,\n",
    "    verbose = True,\n",
    "    train_loss = mean_std_forEnsemble,\n",
    "    val_loss_criterias = {\n",
    "        \"nll\" : mean_std_forEnsemble,\n",
    "        \"rmse\": rmse_loss,\n",
    "        \"MACE\": MACE_muSigma\n",
    "    },\n",
    "    early_stopping = True,\n",
    "    patience = 20,\n",
    "    monitor_name = \"rmse\"\n",
    ")\n",
    "\n",
    "record = testPerform_muSigma(test_X, test_Y, model_name= \"DeepEnsemble\", model = deepEnsemble_model)\n",
    "\n",
    "print(record)"
   ]
  },
  {
   "cell_type": "markdown",
   "id": "2de3ed56",
   "metadata": {},
   "source": [
    "# Regression Net"
   ]
  },
  {
   "cell_type": "code",
   "execution_count": 7,
   "id": "78f4df62",
   "metadata": {},
   "outputs": [
    {
     "name": "stdout",
     "output_type": "stream",
     "text": [
      "Training model with hidden:  [100, 50]\n",
      "epoch  0\n",
      "     loss: mse, 43.080753326416016\n",
      "     loss: rmse, 6.563592910766602\n",
      "epoch  15\n",
      "     loss: mse, 32.859764099121094\n",
      "     loss: rmse, 5.732343673706055\n",
      "epoch  30\n",
      "     loss: mse, 29.50026512145996\n",
      "     loss: rmse, 5.431414604187012\n",
      "epoch  45\n",
      "     loss: mse, 28.786014556884766\n",
      "     loss: rmse, 5.365260124206543\n",
      "Early Stopped at Epoch  52\n"
     ]
    },
    {
     "data": {
      "text/plain": [
       "tensor(5.0316, device='cuda:0', grad_fn=<SqrtBackward0>)"
      ]
     },
     "execution_count": 7,
     "metadata": {},
     "output_type": "execute_result"
    }
   ],
   "source": [
    "hidden = [100, 50]\n",
    "\n",
    "print(\"Training model with hidden: \", hidden)\n",
    "pred_model = vanilla_predNet(\n",
    "    n_input = n_feature,\n",
    "    hidden_layers = hidden\n",
    ")\n",
    "pred_model.train(\n",
    "    train_X, train_Y, val_X, val_Y,\n",
    "    bat_size = 64,\n",
    "    LR = 5E-3,\n",
    "\n",
    "    N_Epoch = epochs,\n",
    "    validate_times = 20,\n",
    "    verbose = True,\n",
    "    train_loss = mse_loss,\n",
    "    val_loss_criterias = {\n",
    "        \"mse\": mse_loss,\n",
    "        \"rmse\": rmse_loss,\n",
    "    },\n",
    "    early_stopping = True,\n",
    "    patience = 20,\n",
    "    monitor_name = \"rmse\"\n",
    ")\n",
    "\n",
    "rmse_loss(pred_model(test_X), test_Y)"
   ]
  },
  {
   "cell_type": "markdown",
   "id": "e213b166",
   "metadata": {},
   "source": [
    "# Post processing"
   ]
  },
  {
   "cell_type": "code",
   "execution_count": 8,
   "id": "0728fdba",
   "metadata": {},
   "outputs": [
    {
     "name": "stdout",
     "output_type": "stream",
     "text": [
      "5\n",
      "{'MACE_Loss': 0.029458556324243546, 'AGCE_Loss': 0.05447420850396156, 'CheckScore': 1.2995365858078003}\n",
      "13\n",
      "{'MACE_Loss': 0.03027963638305664, 'AGCE_Loss': 0.0443401001393795, 'CheckScore': 1.3043346405029297}\n",
      "26\n",
      "{'MACE_Loss': 0.030641019344329834, 'AGCE_Loss': 0.04697367921471596, 'CheckScore': 1.3042606115341187}\n",
      "60\n",
      "{'MACE_Loss': 0.030587175861001015, 'AGCE_Loss': 0.06699167191982269, 'CheckScore': 1.3043314218521118}\n"
     ]
    }
   ],
   "source": [
    "from Experiments.EXP1.TestPerform import testPerform_projKernel\n",
    "from sklearn import random_projection\n",
    "\n",
    "n_component = 13\n",
    "transformer = random_projection.GaussianRandomProjection(n_components = n_component)\n",
    "reformer = lambda x : torch.Tensor(transformer.fit_transform(x.cpu().numpy()))\n",
    "\n",
    "for width in [5, 13, 26, 60]:\n",
    "    print(width)\n",
    "    \n",
    "    record = testPerform_projKernel(\n",
    "        test_X, test_Y, recal_X, recal_Y, \n",
    "        model_name = \"vanillaKernel_RandomProj\", model= pred_model, reformer= reformer, wid = width) \n",
    "    \n",
    "    print(record)"
   ]
  },
  {
   "cell_type": "code",
   "execution_count": null,
   "id": "8ccf418a",
   "metadata": {},
   "outputs": [],
   "source": []
  }
 ],
 "metadata": {
  "kernelspec": {
   "display_name": "Python 3 (ipykernel)",
   "language": "python",
   "name": "python3"
  },
  "language_info": {
   "codemirror_mode": {
    "name": "ipython",
    "version": 3
   },
   "file_extension": ".py",
   "mimetype": "text/x-python",
   "name": "python",
   "nbconvert_exporter": "python",
   "pygments_lexer": "ipython3",
   "version": "3.9.13"
  }
 },
 "nbformat": 4,
 "nbformat_minor": 5
}
